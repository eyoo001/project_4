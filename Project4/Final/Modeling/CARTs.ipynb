{
 "cells": [
  {
   "cell_type": "code",
   "execution_count": 1,
   "metadata": {},
   "outputs": [],
   "source": [
    "import pandas as pd\n",
    "from datetime import datetime, timedelta\n",
    "import numpy as np"
   ]
  },
  {
   "cell_type": "code",
   "execution_count": 2,
   "metadata": {},
   "outputs": [],
   "source": [
    "train = pd.read_csv('./data/train.csv', parse_dates=[0], index_col=0)"
   ]
  },
  {
   "cell_type": "code",
   "execution_count": 3,
   "metadata": {},
   "outputs": [
    {
     "name": "stdout",
     "output_type": "stream",
     "text": [
      "<class 'pandas.core.frame.DataFrame'>\n",
      "DatetimeIndex: 10506 entries, 2007-05-29 to 2013-09-26\n",
      "Data columns (total 11 columns):\n",
      "Address                   10506 non-null object\n",
      "Species                   10506 non-null object\n",
      "Block                     10506 non-null int64\n",
      "Street                    10506 non-null object\n",
      "Trap                      10506 non-null object\n",
      "AddressNumberAndStreet    10506 non-null object\n",
      "Latitude                  10506 non-null float64\n",
      "Longitude                 10506 non-null float64\n",
      "AddressAccuracy           10506 non-null int64\n",
      "NumMosquitos              10506 non-null int64\n",
      "WnvPresent                10506 non-null int64\n",
      "dtypes: float64(2), int64(4), object(5)\n",
      "memory usage: 984.9+ KB\n"
     ]
    }
   ],
   "source": [
    "train.info()"
   ]
  },
  {
   "cell_type": "code",
   "execution_count": 4,
   "metadata": {},
   "outputs": [
    {
     "data": {
      "text/plain": [
       "Trap\n",
       "T900    66\n",
       "T115    41\n",
       "T002    18\n",
       "T138    16\n",
       "T003    14\n",
       "Name: WnvPresent, dtype: int64"
      ]
     },
     "execution_count": 4,
     "metadata": {},
     "output_type": "execute_result"
    }
   ],
   "source": [
    "train.groupby('Trap').WnvPresent.sum().sort_values(ascending=False).head()"
   ]
  },
  {
   "cell_type": "code",
   "execution_count": 5,
   "metadata": {},
   "outputs": [
    {
     "data": {
      "text/plain": [
       "Species                 WnvPresent\n",
       "CULEX ERRATICUS         0                1\n",
       "CULEX PIPIENS           0             2459\n",
       "                        1              240\n",
       "CULEX PIPIENS/RESTUANS  0             4490\n",
       "                        1              262\n",
       "CULEX RESTUANS          0             2691\n",
       "                        1               49\n",
       "CULEX SALINARIUS        0               86\n",
       "CULEX TARSALIS          0                6\n",
       "CULEX TERRITANS         0              222\n",
       "Name: WnvPresent, dtype: int64"
      ]
     },
     "execution_count": 5,
     "metadata": {},
     "output_type": "execute_result"
    }
   ],
   "source": [
    "train.groupby('Species').WnvPresent.value_counts()"
   ]
  },
  {
   "cell_type": "code",
   "execution_count": 6,
   "metadata": {},
   "outputs": [],
   "source": [
    "spray = pd.read_csv('./data/spray.csv')"
   ]
  },
  {
   "cell_type": "code",
   "execution_count": 7,
   "metadata": {},
   "outputs": [],
   "source": [
    "spray.Date = spray.Date.map(lambda x: datetime.strptime(x, '%Y-%m-%d'))"
   ]
  },
  {
   "cell_type": "code",
   "execution_count": 8,
   "metadata": {},
   "outputs": [],
   "source": [
    "spray['year'] = spray.Date.map(lambda x: x.year)"
   ]
  },
  {
   "cell_type": "code",
   "execution_count": 9,
   "metadata": {},
   "outputs": [
    {
     "data": {
      "text/html": [
       "<div>\n",
       "<style scoped>\n",
       "    .dataframe tbody tr th:only-of-type {\n",
       "        vertical-align: middle;\n",
       "    }\n",
       "\n",
       "    .dataframe tbody tr th {\n",
       "        vertical-align: top;\n",
       "    }\n",
       "\n",
       "    .dataframe thead th {\n",
       "        text-align: right;\n",
       "    }\n",
       "</style>\n",
       "<table border=\"1\" class=\"dataframe\">\n",
       "  <thead>\n",
       "    <tr style=\"text-align: right;\">\n",
       "      <th></th>\n",
       "      <th>Date</th>\n",
       "      <th>Time</th>\n",
       "      <th>Latitude</th>\n",
       "      <th>Longitude</th>\n",
       "    </tr>\n",
       "    <tr>\n",
       "      <th>year</th>\n",
       "      <th></th>\n",
       "      <th></th>\n",
       "      <th></th>\n",
       "      <th></th>\n",
       "    </tr>\n",
       "  </thead>\n",
       "  <tbody>\n",
       "    <tr>\n",
       "      <th>2011</th>\n",
       "      <td>2209</td>\n",
       "      <td>1625</td>\n",
       "      <td>2209</td>\n",
       "      <td>2209</td>\n",
       "    </tr>\n",
       "    <tr>\n",
       "      <th>2013</th>\n",
       "      <td>12626</td>\n",
       "      <td>12626</td>\n",
       "      <td>12626</td>\n",
       "      <td>12626</td>\n",
       "    </tr>\n",
       "  </tbody>\n",
       "</table>\n",
       "</div>"
      ],
      "text/plain": [
       "       Date   Time  Latitude  Longitude\n",
       "year                                   \n",
       "2011   2209   1625      2209       2209\n",
       "2013  12626  12626     12626      12626"
      ]
     },
     "execution_count": 9,
     "metadata": {},
     "output_type": "execute_result"
    }
   ],
   "source": [
    "spray.groupby('year').count()"
   ]
  },
  {
   "cell_type": "code",
   "execution_count": 10,
   "metadata": {},
   "outputs": [],
   "source": [
    "def combine_rows(df):\n",
    "    place_table = df[[\n",
    "        'Address', 'Block', 'Street', 'Trap', 'AddressNumberAndStreet', 'Latitude', 'Longitude', 'AddressAccuracy'\n",
    "    ]].drop_duplicates().set_index(['Address'])\n",
    "\n",
    "    totals = df.groupby([df.index, 'Trap', 'Address', 'Species']).NumMosquitos.sum()\n",
    "    has_nile = df.groupby([df.index, 'Trap', 'Address', 'Species']).WnvPresent.sum().map(lambda x: int(x > 0))\n",
    "    return pd.concat([totals, has_nile], axis=1).reset_index().merge(place_table.drop('Trap', axis=1), on='Address')"
   ]
  },
  {
   "cell_type": "code",
   "execution_count": 11,
   "metadata": {},
   "outputs": [],
   "source": [
    "#confused how i want to handle the df\n",
    "def deal_w_stations(df2, weather):\n",
    "    station1Lat = 41.995\n",
    "    station1Lon = -87.933\n",
    "    station2Lat = 41.786\n",
    "    station2Lon = -87.752\n",
    "\n",
    "    dist1 = abs((df2.Latitude - station1Lat)*1j + (df2.Longitude - station1Lon))\n",
    "    dist2 = abs((df2.Latitude - station2Lat)*1j + (df2.Longitude - station2Lon))\n",
    "    compare = dist1 < dist2\n",
    "    weather_fields = weather.select_dtypes([float,int]).columns[1:]\n",
    "\n",
    "    for field in weather_fields:\n",
    "        df2[field] = df2[field + '_x']*compare + df2[field + '_y']*(1-compare)\n",
    "\n",
    "    redundant_cols = [name for name in df2.columns if '_' in name]\n",
    "\n",
    "    return df2.drop(redundant_cols, axis=1)"
   ]
  },
  {
   "cell_type": "code",
   "execution_count": 12,
   "metadata": {},
   "outputs": [],
   "source": [
    "weather = pd.read_csv('./data/ps_weather_processed.csv', parse_dates=[0], index_col=0)\\\n",
    "                .assign(HCDiff = lambda df: df.Heat - df.Cool)\\\n",
    "                .apply(lambda col: col.replace('-',None).ffill().astype(int) if col.name in ['Sunrise', 'Sunset'] else col)\\\n",
    "                .drop(['Heat', 'Cool','isRain'], axis=1)\n"
   ]
  },
  {
   "cell_type": "code",
   "execution_count": 13,
   "metadata": {},
   "outputs": [
    {
     "name": "stdout",
     "output_type": "stream",
     "text": [
      "<class 'pandas.core.frame.DataFrame'>\n",
      "DatetimeIndex: 2944 entries, 2007-05-01 to 2014-10-31\n",
      "Data columns (total 18 columns):\n",
      "Station        2944 non-null int64\n",
      "Tmax           2944 non-null int64\n",
      "Tmin           2944 non-null int64\n",
      "Tavg           2944 non-null int64\n",
      "Depart         2944 non-null object\n",
      "DewPoint       2944 non-null int64\n",
      "WetBulb        2944 non-null int64\n",
      "Sunrise        2944 non-null int64\n",
      "Sunset         2944 non-null int64\n",
      "CodeSum        2944 non-null object\n",
      "SnowFall       2944 non-null object\n",
      "PrecipTotal    2944 non-null float64\n",
      "StnPressure    2944 non-null float64\n",
      "SeaLevel       2944 non-null float64\n",
      "ResultSpeed    2944 non-null float64\n",
      "ResultDir      2944 non-null int64\n",
      "AvgSpeed       2944 non-null float64\n",
      "HCDiff         2944 non-null int64\n",
      "dtypes: float64(5), int64(10), object(3)\n",
      "memory usage: 517.0+ KB\n"
     ]
    }
   ],
   "source": [
    "weather.info()"
   ]
  },
  {
   "cell_type": "code",
   "execution_count": 14,
   "metadata": {},
   "outputs": [],
   "source": [
    "shift_dict_default = {\n",
    "\n",
    "}"
   ]
  },
  {
   "cell_type": "code",
   "execution_count": 15,
   "metadata": {},
   "outputs": [],
   "source": [
    "#used in conjunction with apply\n",
    "def weatherShiftLogic(col, shift_dict=shift_dict_default):\n",
    "    if col.name in shift_dict:\n",
    "        return col.shift(shift_dict[col.name])\n",
    "    else:\n",
    "        return col.shift(14)"
   ]
  },
  {
   "cell_type": "code",
   "execution_count": 16,
   "metadata": {},
   "outputs": [],
   "source": [
    "def merge_weather(df):\n",
    "    weather = pd.read_csv('./data/ps_weather_processed.csv', parse_dates=[0], index_col=0)\\\n",
    "                .assign(HCDiff = lambda df: df.Heat - df.Cool)\\\n",
    "                .apply(lambda col: col.replace('-',None).ffill().astype(int) if col.name in ['Sunrise', 'Sunset'] else col)\\\n",
    "                .drop(['Heat', 'Cool','isRain'], axis=1)\n",
    "\n",
    "    a = weather.query('Station==1').drop('Station', axis=1).select_dtypes([float,int]).apply(weatherShiftLogic)\n",
    "    b = weather.query('Station==2').drop('Station', axis=1).select_dtypes([float,int]).apply(weatherShiftLogic)\n",
    "    df = df.set_index('Date').join([a, b]).dropna()\n",
    "    return deal_w_stations(df, weather)"
   ]
  },
  {
   "cell_type": "code",
   "execution_count": 17,
   "metadata": {},
   "outputs": [],
   "source": [
    "def adjust_columns(df2):\n",
    "    relevant_species = ['CULEX PIPIENS', 'CULEX PIPIENS/RESTUANS', 'CULEX RESTUANS']\n",
    "    for species in relevant_species:\n",
    "        df2[species] = df2.Species.map(lambda x: int(x==species))\n",
    "    #df2 = df2.assign(month = df2.index.month)\n",
    "    df2 = df2.select_dtypes([int, float]).drop(['Block', 'AddressAccuracy'], axis=1)\n",
    "    return df2"
   ]
  },
  {
   "cell_type": "code",
   "execution_count": 18,
   "metadata": {},
   "outputs": [],
   "source": [
    "def naivestrap(x, y):\n",
    "    positive_index = y.reset_index().query('WnvPresent==1').index\n",
    "    indices = np.random.choice(positive_index, size=len(y)-y.sum())\n",
    "    return x.copy().iloc[indices,:], y.copy().iloc[indices]"
   ]
  },
  {
   "cell_type": "code",
   "execution_count": 19,
   "metadata": {},
   "outputs": [],
   "source": [
    "df2 = combine_rows(train)"
   ]
  },
  {
   "cell_type": "code",
   "execution_count": 20,
   "metadata": {},
   "outputs": [],
   "source": [
    "df2 = merge_weather(df2)"
   ]
  },
  {
   "cell_type": "code",
   "execution_count": 21,
   "metadata": {},
   "outputs": [],
   "source": [
    "df2 = adjust_columns(df2)"
   ]
  },
  {
   "cell_type": "raw",
   "metadata": {},
   "source": [
    "relevant_species = ['CULEX PIPIENS', 'CULEX PIPIENS/RESTUANS', 'CULEX RESTUANS']"
   ]
  },
  {
   "cell_type": "raw",
   "metadata": {},
   "source": [
    "for species in relevant_species:\n",
    "    df2[species] = df2.Species.map(lambda x: int(x==species))"
   ]
  },
  {
   "cell_type": "code",
   "execution_count": 22,
   "metadata": {},
   "outputs": [],
   "source": [
    "from sklearn.ensemble import RandomForestClassifier\n",
    "from sklearn.model_selection import train_test_split, TimeSeriesSplit\n",
    "from sklearn.metrics import roc_auc_score, roc_curve"
   ]
  },
  {
   "cell_type": "code",
   "execution_count": 23,
   "metadata": {},
   "outputs": [],
   "source": [
    "x = df2.drop(['WnvPresent','NumMosquitos'], axis=1)\n",
    "y = df2.WnvPresent\n",
    "\n",
    "xtrain, xtest, ytrain, ytest = train_test_split(x, y, test_size=0.3)"
   ]
  },
  {
   "cell_type": "code",
   "execution_count": 24,
   "metadata": {},
   "outputs": [],
   "source": [
    "xtrainint, ytrainint = naivestrap(xtrain, ytrain)\n",
    "xtrain = pd.concat([xtrain, xtrainint])\n",
    "ytrain = pd.concat([ytrain, ytrainint])"
   ]
  },
  {
   "cell_type": "raw",
   "metadata": {},
   "source": [
    "x = df2.drop(['WnvPresent','NumMosquitos'], axis=1)\n",
    "y = df2.WnvPresent\n",
    "tsplit = TimeSeriesSplit(n_splits=7)\n",
    "forests = []\n",
    "\n",
    "for train_index, test_index in tsplit.split(x):\n",
    "    xtrain, xtest, ytrain, ytest = x.iloc[train_index,:], x.iloc[test_index,:], y.iloc[train_index], y.iloc[test_index]\n",
    "    model = RandomForestClassifier(n_estimators=50, max_depth=10, class_weight=None)\n",
    "    forests.append((model.fit(xtrain, ytrain),model.score(xtest, ytest)))\n",
    "    \n",
    "model = sorted(forests, key=lambda x: x[1], reverse=True)[0][0]"
   ]
  },
  {
   "cell_type": "code",
   "execution_count": 25,
   "metadata": {},
   "outputs": [
    {
     "data": {
      "text/plain": [
       "0.9233189146677153"
      ]
     },
     "execution_count": 25,
     "metadata": {},
     "output_type": "execute_result"
    }
   ],
   "source": [
    "rf = RandomForestClassifier(n_estimators=100, min_samples_leaf=1, min_samples_split=2, max_depth=None, max_features='auto', class_weight=None)\n",
    "rf.fit(xtrain, ytrain)\n",
    "model = rf\n",
    "rf.score(xtest, ytest)"
   ]
  },
  {
   "cell_type": "code",
   "execution_count": 26,
   "metadata": {},
   "outputs": [],
   "source": [
    "probas = [row[1] for row in model.predict_proba(xtest)]"
   ]
  },
  {
   "cell_type": "code",
   "execution_count": 27,
   "metadata": {},
   "outputs": [
    {
     "data": {
      "text/plain": [
       "197.68000000000015"
      ]
     },
     "execution_count": 27,
     "metadata": {},
     "output_type": "execute_result"
    }
   ],
   "source": [
    "sum(probas)"
   ]
  },
  {
   "cell_type": "code",
   "execution_count": 28,
   "metadata": {},
   "outputs": [
    {
     "data": {
      "text/plain": [
       "0.7853258877294167"
      ]
     },
     "execution_count": 28,
     "metadata": {},
     "output_type": "execute_result"
    }
   ],
   "source": [
    "roc_auc_score(ytest, probas)"
   ]
  },
  {
   "cell_type": "code",
   "execution_count": 29,
   "metadata": {},
   "outputs": [
    {
     "data": {
      "text/plain": [
       "0.9999999999999999"
      ]
     },
     "execution_count": 29,
     "metadata": {},
     "output_type": "execute_result"
    }
   ],
   "source": [
    "roc_auc_score(ytrain, [proba[1] for proba in rf.predict_proba(xtrain)])"
   ]
  },
  {
   "cell_type": "code",
   "execution_count": 30,
   "metadata": {},
   "outputs": [
    {
     "data": {
      "text/plain": [
       "[('Latitude', 0.20913396941489903),\n",
       " ('Longitude', 0.2259368486276278),\n",
       " ('Tmax', 0.021840685788002377),\n",
       " ('Tmin', 0.019172582567877593),\n",
       " ('Tavg', 0.030838884109144215),\n",
       " ('DewPoint', 0.02953255432925679),\n",
       " ('WetBulb', 0.02931184422205435),\n",
       " ('Sunrise', 0.10768249153024968),\n",
       " ('Sunset', 0.07625154229096681),\n",
       " ('PrecipTotal', 0.020820259864349835),\n",
       " ('StnPressure', 0.020288280619249133),\n",
       " ('SeaLevel', 0.025138895550507866),\n",
       " ('ResultSpeed', 0.031498527465059316),\n",
       " ('ResultDir', 0.02198124683696436),\n",
       " ('AvgSpeed', 0.028557784529659756),\n",
       " ('HCDiff', 0.02761303277359941),\n",
       " ('CULEX PIPIENS', 0.020508949884698802),\n",
       " ('CULEX PIPIENS/RESTUANS', 0.02383978569928648),\n",
       " ('CULEX RESTUANS', 0.03005183389654661)]"
      ]
     },
     "execution_count": 30,
     "metadata": {},
     "output_type": "execute_result"
    }
   ],
   "source": [
    "list(zip(xtrain.columns, model.feature_importances_))"
   ]
  },
  {
   "cell_type": "code",
   "execution_count": 31,
   "metadata": {},
   "outputs": [
    {
     "data": {
      "text/plain": [
       "0.07773495871018482"
      ]
     },
     "execution_count": 31,
     "metadata": {},
     "output_type": "execute_result"
    }
   ],
   "source": [
    "np.mean(probas)"
   ]
  },
  {
   "cell_type": "code",
   "execution_count": 32,
   "metadata": {},
   "outputs": [
    {
     "data": {
      "text/plain": [
       "array([[0.99, 0.01],\n",
       "       [1.  , 0.  ],\n",
       "       [0.91, 0.09],\n",
       "       ...,\n",
       "       [0.8 , 0.2 ],\n",
       "       [0.96, 0.04],\n",
       "       [1.  , 0.  ]])"
      ]
     },
     "execution_count": 32,
     "metadata": {},
     "output_type": "execute_result"
    }
   ],
   "source": [
    "model.predict_proba(xtest)"
   ]
  },
  {
   "cell_type": "code",
   "execution_count": 33,
   "metadata": {},
   "outputs": [],
   "source": [
    "b = pd.DataFrame(probas, index=ytest.index)"
   ]
  },
  {
   "cell_type": "code",
   "execution_count": 34,
   "metadata": {},
   "outputs": [],
   "source": [
    "inspect = pd.concat([xtest, b, ytest], axis=1).rename({0:'proba', 'WnvPresent':'actual'}, axis=1)"
   ]
  },
  {
   "cell_type": "code",
   "execution_count": 35,
   "metadata": {},
   "outputs": [
    {
     "data": {
      "text/plain": [
       "(2543, 21)"
      ]
     },
     "execution_count": 35,
     "metadata": {},
     "output_type": "execute_result"
    }
   ],
   "source": [
    "inspect.shape"
   ]
  },
  {
   "cell_type": "markdown",
   "metadata": {},
   "source": [
    "False negatives at threshold (0.5 at time of shift enter)"
   ]
  },
  {
   "cell_type": "code",
   "execution_count": 36,
   "metadata": {},
   "outputs": [
    {
     "data": {
      "text/plain": [
       "0.7867647058823529"
      ]
     },
     "execution_count": 36,
     "metadata": {},
     "output_type": "execute_result"
    }
   ],
   "source": [
    "inspect.query('actual==1').assign(new = lambda df: abs(df.actual - df.proba)).query('new>0.5').shape[0]/ytest.sum()"
   ]
  },
  {
   "cell_type": "code",
   "execution_count": 37,
   "metadata": {},
   "outputs": [
    {
     "data": {
      "text/plain": [
       "0.053480141565080616"
      ]
     },
     "execution_count": 37,
     "metadata": {},
     "output_type": "execute_result"
    }
   ],
   "source": [
    "inspect.actual.mean()"
   ]
  },
  {
   "cell_type": "code",
   "execution_count": 38,
   "metadata": {},
   "outputs": [
    {
     "data": {
      "text/plain": [
       "0.012366737739872069"
      ]
     },
     "execution_count": 38,
     "metadata": {},
     "output_type": "execute_result"
    }
   ],
   "source": [
    "inspect.loc[abs(inspect.proba - inspect.actual)<.5].actual.mean()"
   ]
  },
  {
   "cell_type": "code",
   "execution_count": 39,
   "metadata": {},
   "outputs": [
    {
     "data": {
      "image/png": "[encoded data removed]",
      "text/plain": [
       "<Figure size 432x288 with 1 Axes>"
      ]
     },
     "metadata": {},
     "output_type": "display_data"
    }
   ],
   "source": [
    "import matplotlib.pyplot as plt\n",
    "%matplotlib inline\n",
    "points = roc_curve(ytest, probas)\n",
    "plt.plot(points[0], points[1])\n",
    "plt.xlabel('FPR')\n",
    "plt.ylabel('TPR');"
   ]
  },
  {
   "cell_type": "code",
   "execution_count": 40,
   "metadata": {},
   "outputs": [],
   "source": [
    "from sklearn.ensemble import ExtraTreesClassifier"
   ]
  },
  {
   "cell_type": "code",
   "execution_count": 41,
   "metadata": {},
   "outputs": [
    {
     "data": {
      "text/plain": [
       "0.7723161620133701"
      ]
     },
     "execution_count": 41,
     "metadata": {},
     "output_type": "execute_result"
    }
   ],
   "source": [
    "extra = ExtraTreesClassifier(n_estimators=1000, max_depth=None, bootstrap=False, min_samples_leaf=100, min_samples_split=200, class_weight=None, warm_start=True)\n",
    "extra.fit(xtrain['2007'], ytrain['2007'])\n",
    "extra.score(xtest, ytest)"
   ]
  },
  {
   "cell_type": "code",
   "execution_count": 42,
   "metadata": {},
   "outputs": [
    {
     "data": {
      "text/plain": [
       "ExtraTreesClassifier(bootstrap=False, class_weight=None, criterion='gini',\n",
       "           max_depth=None, max_features='auto', max_leaf_nodes=None,\n",
       "           min_impurity_decrease=0.0, min_impurity_split=None,\n",
       "           min_samples_leaf=100, min_samples_split=200,\n",
       "           min_weight_fraction_leaf=0.0, n_estimators=4000, n_jobs=1,\n",
       "           oob_score=False, random_state=None, verbose=0, warm_start=True)"
      ]
     },
     "execution_count": 42,
     "metadata": {},
     "output_type": "execute_result"
    }
   ],
   "source": [
    "extra.set_params(n_estimators=2000)\n",
    "extra.fit(xtrain['2009'], ytrain['2009'])\n",
    "extra.set_params(n_estimators=3000)\n",
    "extra.fit(xtrain['2011'], ytrain['2011'])\n",
    "extra.set_params(n_estimators=4000)\n",
    "extra.fit(xtrain['2013'], ytrain['2013'])"
   ]
  },
  {
   "cell_type": "code",
   "execution_count": 43,
   "metadata": {},
   "outputs": [
    {
     "data": {
      "text/plain": [
       "0.7909834062415994"
      ]
     },
     "execution_count": 43,
     "metadata": {},
     "output_type": "execute_result"
    }
   ],
   "source": [
    "roc_auc_score(ytest, [proba[1] for proba in extra.predict_proba(xtest)])"
   ]
  },
  {
   "cell_type": "code",
   "execution_count": 44,
   "metadata": {},
   "outputs": [
    {
     "data": {
      "text/plain": [
       "0.7822653051340607"
      ]
     },
     "execution_count": 44,
     "metadata": {},
     "output_type": "execute_result"
    }
   ],
   "source": [
    "roc_auc_score(ytrain, [proba[1] for proba in extra.predict_proba(xtrain)])"
   ]
  },
  {
   "cell_type": "code",
   "execution_count": 45,
   "metadata": {},
   "outputs": [],
   "source": [
    "model=extra"
   ]
  },
  {
   "cell_type": "code",
   "execution_count": 46,
   "metadata": {},
   "outputs": [
    {
     "data": {
      "text/plain": [
       "[('Latitude', 0.05111185443222632),\n",
       " ('Longitude', 0.08383717123167277),\n",
       " ('Tmax', 0.034512082679295404),\n",
       " ('Tmin', 0.03886971539364472),\n",
       " ('Tavg', 0.04036210625373013),\n",
       " ('DewPoint', 0.04680363781413293),\n",
       " ('WetBulb', 0.052876315712041655),\n",
       " ('Sunrise', 0.11400463509106869),\n",
       " ('Sunset', 0.081981256755837),\n",
       " ('PrecipTotal', 0.035571192327328985),\n",
       " ('StnPressure', 0.02781695289674334),\n",
       " ('SeaLevel', 0.03339970380985758),\n",
       " ('ResultSpeed', 0.03990541006199068),\n",
       " ('ResultDir', 0.05382930156894767),\n",
       " ('AvgSpeed', 0.04148626768781266),\n",
       " ('HCDiff', 0.0408979378777448),\n",
       " ('CULEX PIPIENS', 0.04200613669013284),\n",
       " ('CULEX PIPIENS/RESTUANS', 0.05763383537583749),\n",
       " ('CULEX RESTUANS', 0.08184448633995448)]"
      ]
     },
     "execution_count": 46,
     "metadata": {},
     "output_type": "execute_result"
    }
   ],
   "source": [
    "list(zip(xtrain.columns, model.feature_importances_))"
   ]
  },
  {
   "cell_type": "code",
   "execution_count": 47,
   "metadata": {},
   "outputs": [],
   "source": [
    "from sklearn.ensemble import GradientBoostingClassifier"
   ]
  },
  {
   "cell_type": "code",
   "execution_count": 48,
   "metadata": {},
   "outputs": [],
   "source": [
    "grad = GradientBoostingClassifier(loss='exponential', n_estimators=1000, max_depth=2, subsample=0.3, warm_start=True)"
   ]
  },
  {
   "cell_type": "code",
   "execution_count": 49,
   "metadata": {},
   "outputs": [
    {
     "name": "stdout",
     "output_type": "stream",
     "text": [
      "0.6969591960495538\n",
      "0.8918600078647267\n"
     ]
    }
   ],
   "source": [
    "grad.fit(xtrain['2007'], ytrain['2007'])\n",
    "print(grad.score(xtrain, ytrain))\n",
    "print(grad.score(xtest, ytest))"
   ]
  },
  {
   "cell_type": "code",
   "execution_count": 50,
   "metadata": {},
   "outputs": [
    {
     "data": {
      "text/plain": [
       "0.7864982124386484"
      ]
     },
     "execution_count": 50,
     "metadata": {},
     "output_type": "execute_result"
    }
   ],
   "source": [
    "roc_auc_score(ytrain, [proba[1] for proba in grad.predict_proba(xtrain)])"
   ]
  },
  {
   "cell_type": "code",
   "execution_count": 51,
   "metadata": {},
   "outputs": [
    {
     "data": {
      "text/plain": [
       "0.7385261125638456"
      ]
     },
     "execution_count": 51,
     "metadata": {},
     "output_type": "execute_result"
    }
   ],
   "source": [
    "roc_auc_score(ytest, [proba[1] for proba in grad.predict_proba(xtest)])"
   ]
  },
  {
   "cell_type": "code",
   "execution_count": 52,
   "metadata": {},
   "outputs": [],
   "source": [
    "model=grad"
   ]
  },
  {
   "cell_type": "markdown",
   "metadata": {},
   "source": [
    "# Processing test data"
   ]
  },
  {
   "cell_type": "code",
   "execution_count": 53,
   "metadata": {},
   "outputs": [],
   "source": [
    "test = pd.read_csv('./data/test.csv')\n",
    "test = adjust_columns(merge_weather(test)).drop('Id', axis=1)\n",
    "submission = pd.DataFrame([predictions[1] for predictions in model.predict_proba(test)], columns=['WnvPresent'])\n",
    "submission = submission.reset_index().rename({'index':'Id'}, axis=1)\n",
    "submission.loc[:,'Id'] = submission.Id + 1\n",
    "submission = submission.set_index('Id')\n",
    "submission.to_csv('submission.csv')"
   ]
  }
 ],
 "metadata": {
  "kernelspec": {
   "display_name": "Python 3",
   "language": "python",
   "name": "python3"
  },
  "language_info": {
   "codemirror_mode": {
    "name": "ipython",
    "version": 3
   },
   "file_extension": ".py",
   "mimetype": "text/x-python",
   "name": "python",
   "nbconvert_exporter": "python",
   "pygments_lexer": "ipython3",
   "version": "3.6.5"
  }
 },
 "nbformat": 4,
 "nbformat_minor": 2
}
