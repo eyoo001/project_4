{
 "cells": [
  {
   "cell_type": "markdown",
   "metadata": {},
   "source": [
    "# Predicting West Nile Virus with CART Based Models\n",
    "\n",
    "Here, we consider the results of decision tree type models in predicting the presence of West Nile.  Many of the results are carried over from the previous notebooks.  We only note considerations in fitting the model here, and compare the results to those obtained when testing the model against years never seen.  It is found that not allowing trees to grow with no depth limit always results in an overfit system, while the use of shallow trees is questionable and never replicates the results of the naive logistic regression found previously."
   ]
  },
  {
   "cell_type": "code",
   "execution_count": 1,
   "metadata": {},
   "outputs": [],
   "source": [
    "import pandas as pd\n",
    "from datetime import datetime, timedelta\n",
    "import numpy as np"
   ]
  },
  {
   "cell_type": "code",
   "execution_count": 2,
   "metadata": {},
   "outputs": [],
   "source": [
    "np.random.seed(1)"
   ]
  },
  {
   "cell_type": "code",
   "execution_count": 3,
   "metadata": {},
   "outputs": [],
   "source": [
    "train = pd.read_csv('../data/train.csv', parse_dates=[0], index_col=0)"
   ]
  },
  {
   "cell_type": "code",
   "execution_count": 4,
   "metadata": {},
   "outputs": [],
   "source": [
    "def combine_rows(df):\n",
    "    place_table = df[[\n",
    "        'Address', 'Block', 'Street', 'Trap', 'AddressNumberAndStreet', 'Latitude', 'Longitude', 'AddressAccuracy'\n",
    "    ]].drop_duplicates().set_index(['Address'])\n",
    "\n",
    "    totals = df.groupby([df.index, 'Trap', 'Address', 'Species']).NumMosquitos.sum()\n",
    "    has_nile = df.groupby([df.index, 'Trap', 'Address', 'Species']).WnvPresent.sum().map(lambda x: int(x > 0))\n",
    "    return pd.concat([totals, has_nile], axis=1).reset_index().merge(place_table.drop('Trap', axis=1), on='Address')"
   ]
  },
  {
   "cell_type": "code",
   "execution_count": 5,
   "metadata": {},
   "outputs": [],
   "source": [
    "def deal_w_stations(df2, weather):\n",
    "    station1Lat = 41.995\n",
    "    station1Lon = -87.933\n",
    "    station2Lat = 41.786\n",
    "    station2Lon = -87.752\n",
    "\n",
    "    dist1 = abs((df2.Latitude - station1Lat)*1j + (df2.Longitude - station1Lon))\n",
    "    dist2 = abs((df2.Latitude - station2Lat)*1j + (df2.Longitude - station2Lon))\n",
    "    compare = dist1 < dist2\n",
    "    weather_fields = weather.select_dtypes([float,int]).columns[1:]\n",
    "\n",
    "    for field in weather_fields:\n",
    "        df2[field] = df2[field + '_x']*compare + df2[field + '_y']*(1-compare)\n",
    "\n",
    "    redundant_cols = [name for name in df2.columns if '_' in name]\n",
    "\n",
    "    return df2.drop(redundant_cols, axis=1)"
   ]
  },
  {
   "cell_type": "code",
   "execution_count": 6,
   "metadata": {},
   "outputs": [],
   "source": [
    "shift_dict_default = {\n",
    "        'Tmin':7,\n",
    "        'Tmax':7,\n",
    "        'Tavg':7,\n",
    "        'sundiff':31\n",
    "}"
   ]
  },
  {
   "cell_type": "code",
   "execution_count": 7,
   "metadata": {},
   "outputs": [],
   "source": [
    "def weatherShiftLogic(col, shift_dict=shift_dict_default):\n",
    "    if col.name in shift_dict:\n",
    "        return col.shift(shift_dict[col.name])\n",
    "    else:\n",
    "        return col.shift(21)"
   ]
  },
  {
   "cell_type": "code",
   "execution_count": 8,
   "metadata": {},
   "outputs": [],
   "source": [
    "def merge_weather(df):\n",
    "    weather = pd.read_csv('../data/ps_weather_processed.csv', parse_dates=[0], index_col=0)\\\n",
    "                .apply(lambda col: col.replace('-',None).ffill().astype(int) if col.name in ['Sunrise', 'Sunset'] else col)\\\n",
    "                .assign(HCDiff = lambda df: df.Heat - df.Cool, sundiff= lambda df: df.Sunset - df.Sunrise)\\\n",
    "                .drop(['Heat', 'Cool','isRain'], axis=1)\n",
    "\n",
    "    a = weather.query('Station==1').drop('Station', axis=1).select_dtypes([float,int]).apply(weatherShiftLogic)\n",
    "    b = weather.query('Station==2').drop('Station', axis=1).select_dtypes([float,int]).apply(weatherShiftLogic)\n",
    "    df = df.set_index('Date').join([a, b]).dropna()\n",
    "    return deal_w_stations(df, weather)"
   ]
  },
  {
   "cell_type": "code",
   "execution_count": 9,
   "metadata": {},
   "outputs": [],
   "source": [
    "def adjust_columns(df2):\n",
    "    relevant_species = ['CULEX PIPIENS', 'CULEX PIPIENS/RESTUANS', 'CULEX RESTUANS']\n",
    "    for species in relevant_species:\n",
    "        df2[species] = df2.Species.map(lambda x: int(x==species))\n",
    "    df2 = df2.assign(month = df2.index.month, year=df2.index.year)\n",
    "    df2 = df2.select_dtypes([int, float]).drop(['Block', 'AddressAccuracy'], axis=1)\n",
    "    return df2"
   ]
  },
  {
   "cell_type": "code",
   "execution_count": 10,
   "metadata": {},
   "outputs": [],
   "source": [
    "def naivestrap(x, y):\n",
    "    positive_index = y.reset_index().query('WnvPresent==1').index\n",
    "    indices = np.random.choice(positive_index, size=len(y)-y.sum())\n",
    "    return x.copy().iloc[indices,:], y.copy().iloc[indices]"
   ]
  },
  {
   "cell_type": "code",
   "execution_count": 11,
   "metadata": {},
   "outputs": [],
   "source": [
    "df2 = combine_rows(train)"
   ]
  },
  {
   "cell_type": "code",
   "execution_count": 12,
   "metadata": {},
   "outputs": [],
   "source": [
    "df2 = merge_weather(df2)"
   ]
  },
  {
   "cell_type": "code",
   "execution_count": 13,
   "metadata": {},
   "outputs": [],
   "source": [
    "df2 = adjust_columns(df2)"
   ]
  },
  {
   "cell_type": "markdown",
   "metadata": {},
   "source": [
    "## Random Forest\n",
    "\n",
    "First, we consider the results of a random forest model, fitting with no consideration for the time dependence of West Nile beyond naming a month for the rows.  Years were named as well, though it will be seen that they are never used by the ensembles."
   ]
  },
  {
   "cell_type": "code",
   "execution_count": 14,
   "metadata": {},
   "outputs": [],
   "source": [
    "from sklearn.ensemble import RandomForestClassifier\n",
    "from sklearn.model_selection import train_test_split\n",
    "from sklearn.metrics import roc_auc_score, roc_curve"
   ]
  },
  {
   "cell_type": "code",
   "execution_count": 15,
   "metadata": {},
   "outputs": [],
   "source": [
    "x = df2.drop(['WnvPresent','NumMosquitos'], axis=1)\n",
    "y = df2.WnvPresent\n",
    "\n",
    "xtrain, xtest, ytrain, ytest = train_test_split(x, y, test_size=0.3)"
   ]
  },
  {
   "cell_type": "code",
   "execution_count": 16,
   "metadata": {},
   "outputs": [],
   "source": [
    "xtrainint, ytrainint = naivestrap(xtrain, ytrain)\n",
    "xtrain = pd.concat([xtrain, xtrainint])\n",
    "ytrain = pd.concat([ytrain, ytrainint])"
   ]
  },
  {
   "cell_type": "code",
   "execution_count": 17,
   "metadata": {},
   "outputs": [
    {
     "data": {
      "text/plain": [
       "0.9266272189349113"
      ]
     },
     "execution_count": 17,
     "metadata": {},
     "output_type": "execute_result"
    }
   ],
   "source": [
    "rf = RandomForestClassifier(n_estimators=1000)\n",
    "rf.fit(xtrain, ytrain)\n",
    "model = rf\n",
    "rf.score(xtest, ytest)"
   ]
  },
  {
   "cell_type": "code",
   "execution_count": 18,
   "metadata": {},
   "outputs": [
    {
     "data": {
      "text/plain": [
       "1.0"
      ]
     },
     "execution_count": 18,
     "metadata": {},
     "output_type": "execute_result"
    }
   ],
   "source": [
    "rf.score(xtrain, ytrain)"
   ]
  },
  {
   "cell_type": "markdown",
   "metadata": {},
   "source": [
    "The model seems to be very accurate, though overfit.  If we inspect the ROC AUC scores, we find more evidence that this system is in fact overfit."
   ]
  },
  {
   "cell_type": "code",
   "execution_count": 19,
   "metadata": {},
   "outputs": [],
   "source": [
    "probas = [row[1] for row in model.predict_proba(xtest)]"
   ]
  },
  {
   "cell_type": "code",
   "execution_count": 20,
   "metadata": {},
   "outputs": [
    {
     "data": {
      "text/plain": [
       "0.8099651452282158"
      ]
     },
     "execution_count": 20,
     "metadata": {},
     "output_type": "execute_result"
    }
   ],
   "source": [
    "roc_auc_score(ytest, probas)"
   ]
  },
  {
   "cell_type": "code",
   "execution_count": 21,
   "metadata": {},
   "outputs": [
    {
     "data": {
      "text/plain": [
       "0.9999999999999999"
      ]
     },
     "execution_count": 21,
     "metadata": {},
     "output_type": "execute_result"
    }
   ],
   "source": [
    "roc_auc_score(ytrain, [proba[1] for proba in rf.predict_proba(xtrain)])"
   ]
  },
  {
   "cell_type": "markdown",
   "metadata": {},
   "source": [
    "The discrepancy is much more apparent here.  We move on to another model from here, but note that month and year appear relatively few times in our decision trees.  Most of the decisions stem from pinpointing location.  It could be the case that latitude and longitude are called multiple times in order to bin locations, so it may not be fair to say that location is the primary indicator of whether West Nile is present.  In fact, while we do expect West Nile closer to the airports and a lake further south, we should not expect the decision to be made on location without consideration given to at least the month of the year."
   ]
  },
  {
   "cell_type": "code",
   "execution_count": 22,
   "metadata": {},
   "outputs": [
    {
     "data": {
      "text/plain": [
       "[('Latitude', 0.21280221622148762),\n",
       " ('Longitude', 0.222735298689847),\n",
       " ('Tmax', 0.017633218205894665),\n",
       " ('Tmin', 0.02631752754495731),\n",
       " ('Tavg', 0.021417827928904686),\n",
       " ('DewPoint', 0.024858623305632797),\n",
       " ('WetBulb', 0.03040379934047124),\n",
       " ('Sunrise', 0.06341649403528159),\n",
       " ('Sunset', 0.03666379756873805),\n",
       " ('PrecipTotal', 0.008355821244173077),\n",
       " ('StnPressure', 0.018587936156653828),\n",
       " ('SeaLevel', 0.020871936689689684),\n",
       " ('ResultSpeed', 0.019372472111802857),\n",
       " ('ResultDir', 0.017777011033985164),\n",
       " ('AvgSpeed', 0.01990330035091453),\n",
       " ('HCDiff', 0.051462673419838796),\n",
       " ('sundiff', 0.03455083103203938),\n",
       " ('CULEX PIPIENS', 0.022795904608691964),\n",
       " ('CULEX PIPIENS/RESTUANS', 0.028783079349432746),\n",
       " ('CULEX RESTUANS', 0.024106000542190597),\n",
       " ('month', 0.05743443513280228),\n",
       " ('year', 0.019749795486569993)]"
      ]
     },
     "execution_count": 22,
     "metadata": {},
     "output_type": "execute_result"
    }
   ],
   "source": [
    "list(zip(xtrain.columns, model.feature_importances_))"
   ]
  },
  {
   "cell_type": "code",
   "execution_count": 23,
   "metadata": {},
   "outputs": [
    {
     "data": {
      "image/png": "[encoded data removed]",
      "text/plain": [
       "<Figure size 432x288 with 1 Axes>"
      ]
     },
     "metadata": {},
     "output_type": "display_data"
    }
   ],
   "source": [
    "import matplotlib.pyplot as plt\n",
    "%matplotlib inline\n",
    "fpr, tpr, th = roc_curve(ytest, probas)\n",
    "plt.plot(fpr, tpr)\n",
    "plt.title('ROC Curve')\n",
    "plt.xlabel('FPR')\n",
    "plt.ylabel('TPR');"
   ]
  },
  {
   "cell_type": "code",
   "execution_count": 24,
   "metadata": {},
   "outputs": [
    {
     "data": {
      "image/png": "[encoded data removed]",
      "text/plain": [
       "<Figure size 432x288 with 1 Axes>"
      ]
     },
     "metadata": {},
     "output_type": "display_data"
    }
   ],
   "source": [
    "plt.plot(np.clip(th,0.01,0.99), np.clip(1-tpr,0.01,0.99), label='False Negative Rate');\n",
    "plt.plot(np.clip(th, 0.01, 0.99), np.clip(fpr,0.01,0.99), label='False Positive Rate');\n",
    "plt.legend();\n",
    "plt.title('Misclassification Rates (Random Forest)');\n",
    "plt.ylabel('Rate');\n",
    "plt.xlabel('Threshold');"
   ]
  },
  {
   "cell_type": "markdown",
   "metadata": {},
   "source": [
    "This model also has difficulties in establishing a threshold that will balance the mispredictions while prioritizing the false negative rate; instead of levelling off, it simply drops down to zero.  Simply looking at the ROC AUC hides this."
   ]
  },
  {
   "cell_type": "markdown",
   "metadata": {},
   "source": [
    "# Extra Trees Classifier\n",
    "\n",
    "In an attempt to further reduce overfitting, we make three modifications at once; we use the extra trees classifier, we train sets of trees that can only see one year, and we change the default parameters to force our trees to be shallow learners.  While these should be experimented with separately, we simply note that the end result is still a deceptively overfit tree."
   ]
  },
  {
   "cell_type": "code",
   "execution_count": 25,
   "metadata": {},
   "outputs": [],
   "source": [
    "from sklearn.ensemble import ExtraTreesClassifier"
   ]
  },
  {
   "cell_type": "code",
   "execution_count": 26,
   "metadata": {},
   "outputs": [
    {
     "data": {
      "text/plain": [
       "0.8291690877396862"
      ]
     },
     "execution_count": 26,
     "metadata": {},
     "output_type": "execute_result"
    }
   ],
   "source": [
    "extra = ExtraTreesClassifier(n_estimators=100, min_samples_leaf=100, min_samples_split=200, warm_start=True)\n",
    "extra.fit(xtrain['2007'], ytrain['2007'])\n",
    "extra.score(xtest['2009':'2013'], ytest['2009':'2013'])"
   ]
  },
  {
   "cell_type": "code",
   "execution_count": 27,
   "metadata": {},
   "outputs": [
    {
     "data": {
      "text/plain": [
       "ExtraTreesClassifier(bootstrap=False, class_weight=None, criterion='gini',\n",
       "           max_depth=None, max_features='auto', max_leaf_nodes=None,\n",
       "           min_impurity_decrease=0.0, min_impurity_split=None,\n",
       "           min_samples_leaf=100, min_samples_split=200,\n",
       "           min_weight_fraction_leaf=0.0, n_estimators=400, n_jobs=1,\n",
       "           oob_score=False, random_state=None, verbose=0, warm_start=True)"
      ]
     },
     "execution_count": 27,
     "metadata": {},
     "output_type": "execute_result"
    }
   ],
   "source": [
    "extra.set_params(n_estimators=200)\n",
    "extra.fit(xtrain['2009'], ytrain['2009'])\n",
    "extra.set_params(n_estimators=300)\n",
    "extra.fit(xtrain['2011'], ytrain['2011'])\n",
    "extra.set_params(n_estimators=400)\n",
    "extra.fit(xtrain['2013'], ytrain['2013'])"
   ]
  },
  {
   "cell_type": "code",
   "execution_count": 28,
   "metadata": {},
   "outputs": [
    {
     "data": {
      "text/plain": [
       "0.7827950207468879"
      ]
     },
     "execution_count": 28,
     "metadata": {},
     "output_type": "execute_result"
    }
   ],
   "source": [
    "roc_auc_score(ytest, [proba[1] for proba in extra.predict_proba(xtest)])"
   ]
  },
  {
   "cell_type": "code",
   "execution_count": 29,
   "metadata": {},
   "outputs": [
    {
     "data": {
      "text/plain": [
       "0.8055564463368373"
      ]
     },
     "execution_count": 29,
     "metadata": {},
     "output_type": "execute_result"
    }
   ],
   "source": [
    "roc_auc_score(ytrain, [proba[1] for proba in extra.predict_proba(xtrain)])"
   ]
  },
  {
   "cell_type": "code",
   "execution_count": 30,
   "metadata": {},
   "outputs": [
    {
     "data": {
      "text/plain": [
       "[('Latitude', 0.21280221622148762),\n",
       " ('Longitude', 0.222735298689847),\n",
       " ('Tmax', 0.017633218205894665),\n",
       " ('Tmin', 0.02631752754495731),\n",
       " ('Tavg', 0.021417827928904686),\n",
       " ('DewPoint', 0.024858623305632797),\n",
       " ('WetBulb', 0.03040379934047124),\n",
       " ('Sunrise', 0.06341649403528159),\n",
       " ('Sunset', 0.03666379756873805),\n",
       " ('PrecipTotal', 0.008355821244173077),\n",
       " ('StnPressure', 0.018587936156653828),\n",
       " ('SeaLevel', 0.020871936689689684),\n",
       " ('ResultSpeed', 0.019372472111802857),\n",
       " ('ResultDir', 0.017777011033985164),\n",
       " ('AvgSpeed', 0.01990330035091453),\n",
       " ('HCDiff', 0.051462673419838796),\n",
       " ('sundiff', 0.03455083103203938),\n",
       " ('CULEX PIPIENS', 0.022795904608691964),\n",
       " ('CULEX PIPIENS/RESTUANS', 0.028783079349432746),\n",
       " ('CULEX RESTUANS', 0.024106000542190597),\n",
       " ('month', 0.05743443513280228),\n",
       " ('year', 0.019749795486569993)]"
      ]
     },
     "execution_count": 30,
     "metadata": {},
     "output_type": "execute_result"
    }
   ],
   "source": [
    "list(zip(xtrain.columns, model.feature_importances_))"
   ]
  },
  {
   "cell_type": "markdown",
   "metadata": {},
   "source": [
    "In terms of tree decisions, we find mostly the same patterns as before.  We only note that there is much less disagreement with the ROC AUC scores - a boost in confidence from reviewing our previous results.  In the end, this model scores much lower than advertised on the years it hasn't seen.  We simply move on to one last attempt to make a model that can treat a test set as fairly as it treats years it has never seen."
   ]
  },
  {
   "cell_type": "markdown",
   "metadata": {},
   "source": [
    "# Gradient Boosted Trees\n",
    "\n",
    "While the concept is completely different from the forests we have previously fit, we make one last ditch effort to fit a decision tree based model that will not overfit to the years it has seen.  Max depth is set at 2, while subsample is set at .5, in a desperate attempt to prevent overfitting to the training data.  In limiting the subsample seen at each iteration, the hope is that if there is no decision tree to universally converge to, at the very least the model will do just as terribly on any set of data rather than do well on training data.  We fit the system to progressively more years and score it against the next year, as though we were training using cross validation.  The concept comes from the time series split method, but we guarantee the split on years here."
   ]
  },
  {
   "cell_type": "code",
   "execution_count": 31,
   "metadata": {},
   "outputs": [],
   "source": [
    "from sklearn.ensemble import GradientBoostingClassifier"
   ]
  },
  {
   "cell_type": "code",
   "execution_count": 32,
   "metadata": {},
   "outputs": [],
   "source": [
    "grad = GradientBoostingClassifier(n_estimators=1000, subsample=.5)"
   ]
  },
  {
   "cell_type": "code",
   "execution_count": 33,
   "metadata": {},
   "outputs": [],
   "source": [
    "train_scores = []\n",
    "test_scores = []\n",
    "roc_trains = []\n",
    "roc_tests = []"
   ]
  },
  {
   "cell_type": "code",
   "execution_count": 34,
   "metadata": {},
   "outputs": [],
   "source": [
    "for end_year, next_year in [('2007','2009'), ('2009', '2011'), ('2011', '2013')]:\n",
    "    grad.fit(xtrain['2007':end_year], ytrain['2007':end_year])\n",
    "    train_scores.append(grad.score(xtest['2007':end_year], ytest['2007':end_year]))\n",
    "    test_scores.append(grad.score(xtest[next_year], ytest[next_year]))\n",
    "    roc_trains.append(roc_auc_score(ytrain['2007':end_year], [proba[1] for proba in grad.predict_proba(xtrain['2007':end_year])]))\n",
    "    roc_tests.append(roc_auc_score(ytest[next_year], [proba[1] for proba in grad.predict_proba(xtest[next_year])]))"
   ]
  },
  {
   "cell_type": "code",
   "execution_count": 35,
   "metadata": {},
   "outputs": [
    {
     "name": "stdout",
     "output_type": "stream",
     "text": [
      "[0.9004914004914005, 0.9314002828854314, 0.9307851239669421]\n",
      "[0.9883333333333333, 0.9712643678160919, 0.8981636060100167]\n",
      "[0.9994599021438245, 0.9993783062214309, 0.9985236594128195]\n",
      "[0.5885067114093959, 0.6108949416342412, 0.7112092268877276]\n"
     ]
    }
   ],
   "source": [
    "print(train_scores)\n",
    "print(test_scores)\n",
    "print(roc_trains)\n",
    "print(roc_tests)"
   ]
  },
  {
   "cell_type": "markdown",
   "metadata": {},
   "source": [
    "In the end, this system is overfit anyway.  The accuracies converge as more years are included, but ROC AUC scores tell us that these are always overfit to the training years.  We expect this system to give us no predictive power."
   ]
  },
  {
   "cell_type": "code",
   "execution_count": 44,
   "metadata": {},
   "outputs": [],
   "source": [
    "test = pd.read_csv('../data/test.csv', parse_dates=[1])\n",
    "test = merge_weather(test)\n",
    "test = adjust_columns(test)\n",
    "test = test.drop('Id', axis=1)"
   ]
  },
  {
   "cell_type": "code",
   "execution_count": 45,
   "metadata": {},
   "outputs": [],
   "source": [
    "def kaggle_submit(test, model, filename):\n",
    "    submission = pd.DataFrame([predictions[1] for predictions in model.predict_proba(test)], columns=['WnvPresent'])\n",
    "    submission = submission.reset_index().rename({'index':'Id'}, axis=1)\n",
    "    submission.loc[:,'Id'] = submission.Id + 1\n",
    "    submission = submission.set_index('Id')\n",
    "    submission.to_csv(f'../Kaggle/{filename}.csv')"
   ]
  },
  {
   "cell_type": "code",
   "execution_count": 46,
   "metadata": {},
   "outputs": [],
   "source": [
    "kaggle_submit(test, rf, 'submissionrf')"
   ]
  },
  {
   "cell_type": "code",
   "execution_count": 47,
   "metadata": {},
   "outputs": [],
   "source": [
    "kaggle_submit(test, extra, 'submissionextra')"
   ]
  },
  {
   "cell_type": "code",
   "execution_count": 48,
   "metadata": {},
   "outputs": [],
   "source": [
    "kaggle_submit(test, grad, 'submissiongrad')"
   ]
  }
 ],
 "metadata": {
  "kernelspec": {
   "display_name": "Python 3",
   "language": "python",
   "name": "python3"
  },
  "language_info": {
   "codemirror_mode": {
    "name": "ipython",
    "version": 3
   },
   "file_extension": ".py",
   "mimetype": "text/x-python",
   "name": "python",
   "nbconvert_exporter": "python",
   "pygments_lexer": "ipython3",
   "version": "3.6.5"
  }
 },
 "nbformat": 4,
 "nbformat_minor": 2
}
