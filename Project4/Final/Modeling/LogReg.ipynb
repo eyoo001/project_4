{
 "cells": [
  {
   "cell_type": "markdown",
   "metadata": {},
   "source": [
    "# Predicting the Presence of West Nile with Logistic Regression\n",
    "\n",
    "Here, we present our methods for predicting the presence of West Nile found in mosquito traps.  We first clean our weather and training datasets before merging them.  The preprocessing steps are simply written in a series of functions, though since they were originally written as calling on each other, these are listed logically in reverse order so that they may exist before their respective calls.  The data for the odd years between 2007 and 2013 are used to train a logistic model, validated on a set held out from those same years, and tested on data for the even years between 2008 to 2014.  Final model selection is based on the ROC AUC metric."
   ]
  },
  {
   "cell_type": "markdown",
   "metadata": {},
   "source": [
    "## Processing the Training Datasets"
   ]
  },
  {
   "cell_type": "code",
   "execution_count": 1,
   "metadata": {},
   "outputs": [],
   "source": [
    "import pandas as pd\n",
    "from datetime import datetime, timedelta\n",
    "import numpy as np"
   ]
  },
  {
   "cell_type": "code",
   "execution_count": 2,
   "metadata": {},
   "outputs": [],
   "source": [
    "train = pd.read_csv('../data/train.csv', parse_dates=[0], index_col=0)"
   ]
  },
  {
   "cell_type": "markdown",
   "metadata": {},
   "source": [
    "Here, we format the training set (odd years) to follow the format of the final test set (even years).  All rows for a single address were combined into a single row which combined number of mosquitos caught and whether the virus was found in any of the vials.  It was also found that two pairs of addresses were labelled as the same trap; the addresses are unique, however, so we just drop the trap ID column."
   ]
  },
  {
   "cell_type": "code",
   "execution_count": 3,
   "metadata": {},
   "outputs": [],
   "source": [
    "def combine_rows(df):\n",
    "    place_table = df[[\n",
    "        'Address', 'Block', 'Street', 'Trap', 'AddressNumberAndStreet', 'Latitude', 'Longitude', 'AddressAccuracy'\n",
    "    ]].drop_duplicates().set_index(['Address'])\n",
    "\n",
    "    totals = df.groupby([df.index, 'Trap', 'Address', 'Species']).NumMosquitos.sum()\n",
    "    has_nile = df.groupby([df.index, 'Trap', 'Address', 'Species']).WnvPresent.sum().map(lambda x: int(x > 0))\n",
    "    return pd.concat([totals, has_nile], axis=1).reset_index().merge(place_table.drop('Trap', axis=1), on='Address').set_index('Date')"
   ]
  },
  {
   "cell_type": "markdown",
   "metadata": {},
   "source": [
    "The next four cells detail the process of how to append weather data to the original training data.  Each trap simply takes on the measurements of the nearest weather station."
   ]
  },
  {
   "cell_type": "code",
   "execution_count": 4,
   "metadata": {},
   "outputs": [],
   "source": [
    "def deal_w_stations(df2, weather):\n",
    "    station1Lat = 41.995\n",
    "    station1Lon = -87.933\n",
    "    station2Lat = 41.786\n",
    "    station2Lon = -87.752\n",
    "\n",
    "    dist1 = abs((df2.Latitude - station1Lat)*1j + (df2.Longitude - station1Lon))\n",
    "    dist2 = abs((df2.Latitude - station2Lat)*1j + (df2.Longitude - station2Lon))\n",
    "    compare = dist1 < dist2\n",
    "    weather_fields = weather.select_dtypes([float,int]).columns[1:]\n",
    "\n",
    "    for field in weather_fields:\n",
    "        df2[field] = df2[field + '_x']*compare + df2[field + '_y']*(1-compare)\n",
    "\n",
    "    redundant_cols = [name for name in df2.columns if '_' in name]\n",
    "\n",
    "    return df2.drop(redundant_cols, axis=1)"
   ]
  },
  {
   "cell_type": "markdown",
   "metadata": {},
   "source": [
    "The number of days the weather data was chosen to lag behind the trap collection date was empirically found.  The temperature was initially dropped out altogether in favor of using month and year as features, but were added back in later when a 21 day shift for the remaining columns was shown to increase the score of the model, though adjusted separately.  The result is simply noted here that changing the default day lag to 21 days was single-handedly the largest factor in model performance, and this point is discussed a bit further in the concluding remarks.  "
   ]
  },
  {
   "cell_type": "code",
   "execution_count": 5,
   "metadata": {},
   "outputs": [],
   "source": [
    "shift_dict_default = {\n",
    "        'Tmin':7,\n",
    "        'Tmax':7,\n",
    "        'Tavg':7,\n",
    "        'sundiff':31\n",
    "}"
   ]
  },
  {
   "cell_type": "code",
   "execution_count": 6,
   "metadata": {},
   "outputs": [],
   "source": [
    "def weatherShiftLogic(col, shift_dict=shift_dict_default):\n",
    "    if col.name in shift_dict:\n",
    "        return col.shift(shift_dict[col.name])\n",
    "    else:\n",
    "        return col.shift(21)"
   ]
  },
  {
   "cell_type": "markdown",
   "metadata": {},
   "source": [
    "Information on heating and cooling, sunrise and sunset are combined into single columns in an effort to reduce the features needed in the model.  This is done to reduce the possibility of needless underfitting during regularization.  isRain is also dropped, since a day-shift configuration where it doesn't simply introduce noise was not found."
   ]
  },
  {
   "cell_type": "code",
   "execution_count": 7,
   "metadata": {},
   "outputs": [],
   "source": [
    "def merge_weather(df):\n",
    "    weather = pd.read_csv('../data/ps_weather_processed.csv', parse_dates=[0], index_col=0)\\\n",
    "                .apply(lambda col: col.replace('-',None).ffill().astype(int) if col.name in ['Sunrise', 'Sunset'] else col)\\\n",
    "                .assign(HCDiff = lambda df: df.Heat - df.Cool, sundiff = lambda df: df.Sunset - df.Sunrise)\\\n",
    "                .drop(['Heat', 'Cool', 'isRain', 'Sunrise', 'Sunset'], axis=1)\n",
    "\n",
    "    a = weather.query('Station==1').drop('Station', axis=1).select_dtypes([float,int]).apply(weatherShiftLogic)\n",
    "    b = weather.query('Station==2').drop('Station', axis=1).select_dtypes([float,int]).apply(weatherShiftLogic)\n",
    "    df = df.join([a, b]).dropna()\n",
    "    return deal_w_stations(df, weather)"
   ]
  },
  {
   "cell_type": "markdown",
   "metadata": {},
   "source": [
    "Finally, we introduce month and year as features, as well as squared terms to allow the model to detect a maximum probability of finding West Nile in August, a minimum in the year 2009, and maxima at the extremes of latitude and longitude listed in the dataset.  These are introduced to increase the accuracy of the model; though these are artificial and should not arbitrarily be used to extrapolate to data outside the limits considered in the training data, we introduce these to fit at least to the extrema mentioned.  The variable 'none' encapsulates any species that does not carry West Nile, though vials listed as 'unlabeled' in the even years dataset are not included."
   ]
  },
  {
   "cell_type": "code",
   "execution_count": 8,
   "metadata": {},
   "outputs": [],
   "source": [
    "def adjust_columns(df):\n",
    "    relevant_species = ['CULEX PIPIENS', 'CULEX PIPIENS/RESTUANS', 'CULEX RESTUANS']\n",
    "    for species in relevant_species:\n",
    "        df[species] = df.Species.map(lambda x: int(x==species))\n",
    "    df = df.assign(\n",
    "        none=df.Species.map(lambda x: int(x not in relevant_species and x not in 'UNSPECIFIED CULEX')), \n",
    "        month = df.index.month, \n",
    "        lat2 = df.Latitude**2, \n",
    "        lon2 = df.Longitude**2,\n",
    "        month2 = df.index.month**2,\n",
    "        year = df.index.year, \n",
    "        year2 = df.index.year**2,\n",
    "        Tavg2 = df.Tavg**2,\n",
    "        Tmin2 = df.Tmin**2,\n",
    "        Tmax2 = df.Tmax**2\n",
    "    )\n",
    "    df = df.select_dtypes([int, float]).drop(['Block', 'AddressAccuracy'], axis=1)\n",
    "    return df"
   ]
  },
  {
   "cell_type": "markdown",
   "metadata": {},
   "source": [
    "Finally, the minority class will be bootstrapped for the training data.  The different species among the carriers are not equally represented, however."
   ]
  },
  {
   "cell_type": "code",
   "execution_count": 9,
   "metadata": {},
   "outputs": [],
   "source": [
    "def naivestrap(x, y):\n",
    "    positive_index = y.reset_index().query('WnvPresent==1').index\n",
    "    indices = np.random.choice(positive_index, size=len(y)-y.sum())\n",
    "    return x.copy().iloc[indices,:], y.copy().iloc[indices]"
   ]
  },
  {
   "cell_type": "code",
   "execution_count": 10,
   "metadata": {},
   "outputs": [],
   "source": [
    "df2 = combine_rows(train)"
   ]
  },
  {
   "cell_type": "code",
   "execution_count": 11,
   "metadata": {},
   "outputs": [],
   "source": [
    "df2 = merge_weather(df2)"
   ]
  },
  {
   "cell_type": "code",
   "execution_count": 12,
   "metadata": {},
   "outputs": [],
   "source": [
    "df2 = adjust_columns(df2)"
   ]
  },
  {
   "cell_type": "markdown",
   "metadata": {},
   "source": [
    "## Logistic Regression\n",
    "\n",
    "A logistic regression model is fit here.  The normal train/test split is used - month and year were introduced to create a polynomial fit to the entire length of time in the dataset, so creating something like a time series split would be counter productive to this end.  However, relaxing the regularization by increasting the parameter C only increases scores across the board for train and test sets.  While this is evidence that we are overfitting to this set of years, all models explored thus far have exhibited the same behavior, except that the CART based models have always shown a much larger discrepancy in accuracy and have also been consistently higher than the even years data in terms of ROC AUC scores.  The polynomial fit solution is then deemed the better solution and presented for further analysis."
   ]
  },
  {
   "cell_type": "code",
   "execution_count": 13,
   "metadata": {},
   "outputs": [],
   "source": [
    "from sklearn.model_selection import train_test_split\n",
    "from sklearn.linear_model import LogisticRegression\n",
    "from sklearn.preprocessing import StandardScaler\n",
    "from sklearn.metrics import roc_auc_score"
   ]
  },
  {
   "cell_type": "code",
   "execution_count": 14,
   "metadata": {},
   "outputs": [],
   "source": [
    "np.random.seed(0)\n",
    "x = df2.drop(['WnvPresent','NumMosquitos'], axis=1)\n",
    "y = df2.WnvPresent\n",
    "\n",
    "xtrain, xtest, ytrain, ytest = train_test_split(x, y, test_size=0.3)"
   ]
  },
  {
   "cell_type": "code",
   "execution_count": 15,
   "metadata": {},
   "outputs": [],
   "source": [
    "xtrainint, ytrainint = naivestrap(xtrain, ytrain)\n",
    "xtrain = pd.concat([xtrain, xtrainint])\n",
    "ytrain = pd.concat([ytrain, ytrainint])"
   ]
  },
  {
   "cell_type": "code",
   "execution_count": 16,
   "metadata": {},
   "outputs": [],
   "source": [
    "scaler = StandardScaler()"
   ]
  },
  {
   "cell_type": "code",
   "execution_count": 17,
   "metadata": {},
   "outputs": [],
   "source": [
    "xtrain = scaler.fit_transform(xtrain)\n",
    "xtest = scaler.transform(xtest)"
   ]
  },
  {
   "cell_type": "code",
   "execution_count": 18,
   "metadata": {},
   "outputs": [
    {
     "data": {
      "text/plain": [
       "0.7562901266701371"
      ]
     },
     "execution_count": 18,
     "metadata": {},
     "output_type": "execute_result"
    }
   ],
   "source": [
    "logreg = LogisticRegression(C=.1, penalty='l2')\n",
    "logreg.fit(xtrain, ytrain)\n",
    "logreg.score(xtrain, ytrain)"
   ]
  },
  {
   "cell_type": "code",
   "execution_count": 19,
   "metadata": {},
   "outputs": [
    {
     "data": {
      "text/plain": [
       "0.6773175542406311"
      ]
     },
     "execution_count": 19,
     "metadata": {},
     "output_type": "execute_result"
    }
   ],
   "source": [
    "logreg.score(xtest, ytest)"
   ]
  },
  {
   "cell_type": "code",
   "execution_count": 20,
   "metadata": {},
   "outputs": [
    {
     "data": {
      "text/plain": [
       "0.8210615755520682"
      ]
     },
     "execution_count": 20,
     "metadata": {},
     "output_type": "execute_result"
    }
   ],
   "source": [
    "roc_auc_score(ytrain, [proba[1] for proba in logreg.predict_proba(xtrain)])"
   ]
  },
  {
   "cell_type": "code",
   "execution_count": 21,
   "metadata": {},
   "outputs": [
    {
     "data": {
      "text/plain": [
       "0.8050383321534603"
      ]
     },
     "execution_count": 21,
     "metadata": {},
     "output_type": "execute_result"
    }
   ],
   "source": [
    "roc_auc_score(ytest, [proba[1] for proba in logreg.predict_proba(xtest)])"
   ]
  },
  {
   "cell_type": "markdown",
   "metadata": {},
   "source": [
    "The accuracy difference between the train and test sets tell us that the model is overfit to its training data.  However, the ROC AUC scores being similar reveal that there can be some balanced threshold that allows us to strike a balance in the true and false positive rates, or indirectly and perhaps more relevant to our problem, between false negatives and false positives.  This will be discussed further, but we should first note the coefficients of our model."
   ]
  },
  {
   "cell_type": "code",
   "execution_count": 22,
   "metadata": {
    "scrolled": false
   },
   "outputs": [
    {
     "data": {
      "text/plain": [
       "[('month', 1.3650810074714608),\n",
       " ('StnPressure', -1.116900314190066),\n",
       " ('SeaLevel', 1.0759285454166625),\n",
       " ('sundiff', 1.0093328471282068),\n",
       " ('HCDiff', -0.9344320626107855),\n",
       " ('Tavg', 0.8014792883363042),\n",
       " ('none', -0.6792028372246097),\n",
       " ('Tmax2', -0.6556811910118512),\n",
       " ('DewPoint', -0.6188189508500257),\n",
       " ('Tmin2', -0.3753983325783691),\n",
       " ('year2', 0.27066630972158795),\n",
       " ('CULEX PIPIENS', 0.2583045648512097),\n",
       " ('Tavg2', 0.2493368573336122),\n",
       " ('year', 0.241148900837673),\n",
       " ('CULEX RESTUANS', -0.2219969167345034),\n",
       " ('WetBulb', 0.20139253468594154),\n",
       " ('lon2', 0.17670703041604188),\n",
       " ('Longitude', -0.1696833067605617),\n",
       " ('Latitude', -0.15463066035525327),\n",
       " ('Tmin', 0.13438216148986193),\n",
       " ('CULEX PIPIENS/RESTUANS', 0.123893138615133),\n",
       " ('Tmax', -0.12012795061709881),\n",
       " ('lat2', -0.1190621331454187),\n",
       " ('ResultDir', 0.10944471594206717),\n",
       " ('month2', -0.06489810999637328),\n",
       " ('AvgSpeed', 0.06417743054956461),\n",
       " ('ResultSpeed', -0.05731566146094226),\n",
       " ('PrecipTotal', 0.046169800844314275)]"
      ]
     },
     "execution_count": 22,
     "metadata": {},
     "output_type": "execute_result"
    }
   ],
   "source": [
    "sorted(list(zip(x.columns, logreg.coef_[0])), key=lambda x: abs(x[1]), reverse=True)"
   ]
  },
  {
   "cell_type": "markdown",
   "metadata": {},
   "source": [
    "Many of the coefficients behave as intended; the $month^2$ and $temperature^2$ coefficients are negative, emulating a peak value.  The coefficients for year and $year^2$ are on the same order and both positive, emulating the lack of West Nile in 2009 and resurgence since, though this effect is relatively weak.  $Longitude^2$ being positive also emulates the lack of West Nile between the airport and the lake further south.  It is surprising that $latitude^2$ is negative, though it is a small effect, along with $latitude$ itself.  We should note that there are many days where West Nile is present in one corner but not the other; it was unfair to say that the spatial dependence was independent of the temporal, nor did this model consider when each species tends to bloom.\n",
    "\n",
    "It should be noted that removing the squared terms did not have much of an effect on the final metric scores.  Though the quadratics would capture extrema, it is not guaranteed to be more accurate on average."
   ]
  },
  {
   "cell_type": "markdown",
   "metadata": {},
   "source": [
    "## Testing Against Years Held Out\n",
    "\n",
    "We test our model against the even years between 2008 to 2014 now.  The final ROC AUC score is reported as 0.813 with the current seed and settings, somewhere between the training and testing scores obtained.  We cannot, however, examine the actual errors in this dataset - we simply note the consistency in score between sets to show our model as generalizable to these years previously missing."
   ]
  },
  {
   "cell_type": "code",
   "execution_count": 24,
   "metadata": {},
   "outputs": [],
   "source": [
    "test = pd.read_csv('../data/test.csv', parse_dates=[1], index_col=1)"
   ]
  },
  {
   "cell_type": "code",
   "execution_count": 26,
   "metadata": {},
   "outputs": [],
   "source": [
    "test = merge_weather(test)"
   ]
  },
  {
   "cell_type": "code",
   "execution_count": 27,
   "metadata": {},
   "outputs": [],
   "source": [
    "test = adjust_columns(test)"
   ]
  },
  {
   "cell_type": "code",
   "execution_count": 28,
   "metadata": {},
   "outputs": [],
   "source": [
    "test = test.drop('Id', axis=1)"
   ]
  },
  {
   "cell_type": "code",
   "execution_count": 29,
   "metadata": {},
   "outputs": [],
   "source": [
    "test = scaler.transform(test)"
   ]
  },
  {
   "cell_type": "code",
   "execution_count": 30,
   "metadata": {},
   "outputs": [],
   "source": [
    "submission = pd.DataFrame([predictions[1] for predictions in logreg.predict_proba(test)], columns=['WnvPresent'])\n",
    "submission = submission.reset_index().rename({'index':'Id'}, axis=1)\n",
    "submission.loc[:,'Id'] = submission.Id + 1\n",
    "submission = submission.set_index('Id')\n",
    "submission.to_csv('../Kaggle/submissionlog.csv')"
   ]
  },
  {
   "cell_type": "markdown",
   "metadata": {},
   "source": [
    "## Mispredictions and Choice of Threshold\n",
    "\n",
    "Ultimately, we must weigh the consequences of misprediction.  We look at the ROC AUC general shape and follow with a discussion of the false positive rate and false negative rate on the test set:"
   ]
  },
  {
   "cell_type": "code",
   "execution_count": 31,
   "metadata": {},
   "outputs": [],
   "source": [
    "from sklearn.metrics import roc_auc_score, roc_curve\n",
    "import matplotlib.pyplot as plt\n",
    "%matplotlib inline"
   ]
  },
  {
   "cell_type": "code",
   "execution_count": 32,
   "metadata": {},
   "outputs": [],
   "source": [
    "fpr, tpr, th = roc_curve(ytest, [proba[1] for proba in logreg.predict_proba(xtest)])"
   ]
  },
  {
   "cell_type": "code",
   "execution_count": 33,
   "metadata": {
    "scrolled": true
   },
   "outputs": [
    {
     "data": {
      "image/png": "[encoded data removed]",
      "text/plain": [
       "<Figure size 432x288 with 1 Axes>"
      ]
     },
     "metadata": {},
     "output_type": "display_data"
    }
   ],
   "source": [
    "plt.plot(fpr, tpr);\n",
    "plt.title('ROC Curve');\n",
    "plt.ylabel('True Positive Rate');\n",
    "plt.xlabel('False Positive Rate');"
   ]
  },
  {
   "cell_type": "code",
   "execution_count": 34,
   "metadata": {},
   "outputs": [
    {
     "data": {
      "image/png": "[encoded data removed]",
      "text/plain": [
       "<Figure size 432x288 with 1 Axes>"
      ]
     },
     "metadata": {},
     "output_type": "display_data"
    }
   ],
   "source": [
    "plt.plot(np.clip(th,0.01,0.99), np.clip(1-tpr,0.01,0.99), label='False Negative Rate');\n",
    "plt.plot(np.clip(th, 0.01, 0.99), np.clip(fpr,0.01,0.99), label='False Positive Rate');\n",
    "plt.title('Misclassification vs Threshold (Logistic Regression)');\n",
    "plt.ylabel('Misclassification Rate');\n",
    "plt.xlabel('Threshold');\n",
    "plt.legend();"
   ]
  },
  {
   "cell_type": "markdown",
   "metadata": {},
   "source": [
    "False negatives and false positives are balanced near a threshold of less than 0.6.  A better compromise might be found tracing back from this point to somewhere near 0.4, where we have a false negative rate closer to around 10%, while the false positive rate is above 40%.  Below this, there are diminishing returns in reducing false negatives while false positives continue to increase at the same rate."
   ]
  },
  {
   "cell_type": "markdown",
   "metadata": {},
   "source": [
    "# Concluding Remarks\n",
    "\n",
    "While flawed, this model is preferred to the tree based models explored, which surprisingly could not match the performance of our logistic regression.  As mentioned before, the default time shift for the weather data was the deciding factor in boosting performance well above what was achieved in the tree-based models, even though the trees had this same shift in weather variables.  Rolling averages over weather was considered - the hope was that if an event important for mosquito breeding did not happen an exact amount of days prior, averaging might still capture these events (for instance, being above some temperature threshold).  However, any amount of averaging seemed to decrease scores, though these were only ever done in groups of variables rather than individually.\n",
    "\n",
    "Though it was argued that the yearly behavior was added to imitate the minimum in the year 2009, the coefficient was relatively small.  Further, it should be reminded that any agreement in this yearly behavior with the years not seen is only by coincidence, since in truth we had no information on mosquito populations or West Nile presence inbetween.  There could be comfort, then, that there is a pattern that appeared independent of years, and that we can make guesses with relatively few false negatives with a limited amount of information a week ahead of time."
   ]
  }
 ],
 "metadata": {
  "kernelspec": {
   "display_name": "Python 3",
   "language": "python",
   "name": "python3"
  },
  "language_info": {
   "codemirror_mode": {
    "name": "ipython",
    "version": 3
   },
   "file_extension": ".py",
   "mimetype": "text/x-python",
   "name": "python",
   "nbconvert_exporter": "python",
   "pygments_lexer": "ipython3",
   "version": "3.6.5"
  }
 },
 "nbformat": 4,
 "nbformat_minor": 2
}
