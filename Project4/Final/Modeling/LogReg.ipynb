{
 "cells": [
  {
   "cell_type": "code",
   "execution_count": 1,
   "metadata": {},
   "outputs": [],
   "source": [
    "import pandas as pd\n",
    "from datetime import datetime, timedelta\n",
    "import numpy as np"
   ]
  },
  {
   "cell_type": "code",
   "execution_count": 2,
   "metadata": {},
   "outputs": [],
   "source": [
    "train = pd.read_csv('./data/train.csv', parse_dates=[0], index_col=0)"
   ]
  },
  {
   "cell_type": "code",
   "execution_count": 3,
   "metadata": {},
   "outputs": [
    {
     "name": "stdout",
     "output_type": "stream",
     "text": [
      "<class 'pandas.core.frame.DataFrame'>\n",
      "DatetimeIndex: 10506 entries, 2007-05-29 to 2013-09-26\n",
      "Data columns (total 11 columns):\n",
      "Address                   10506 non-null object\n",
      "Species                   10506 non-null object\n",
      "Block                     10506 non-null int64\n",
      "Street                    10506 non-null object\n",
      "Trap                      10506 non-null object\n",
      "AddressNumberAndStreet    10506 non-null object\n",
      "Latitude                  10506 non-null float64\n",
      "Longitude                 10506 non-null float64\n",
      "AddressAccuracy           10506 non-null int64\n",
      "NumMosquitos              10506 non-null int64\n",
      "WnvPresent                10506 non-null int64\n",
      "dtypes: float64(2), int64(4), object(5)\n",
      "memory usage: 984.9+ KB\n"
     ]
    }
   ],
   "source": [
    "train.info()"
   ]
  },
  {
   "cell_type": "code",
   "execution_count": 4,
   "metadata": {},
   "outputs": [
    {
     "data": {
      "text/plain": [
       "Trap\n",
       "T900    66\n",
       "T115    41\n",
       "T002    18\n",
       "T138    16\n",
       "T003    14\n",
       "Name: WnvPresent, dtype: int64"
      ]
     },
     "execution_count": 4,
     "metadata": {},
     "output_type": "execute_result"
    }
   ],
   "source": [
    "train.groupby('Trap').WnvPresent.sum().sort_values(ascending=False).head()"
   ]
  },
  {
   "cell_type": "code",
   "execution_count": 5,
   "metadata": {},
   "outputs": [
    {
     "data": {
      "text/plain": [
       "Species                 WnvPresent\n",
       "CULEX ERRATICUS         0                1\n",
       "CULEX PIPIENS           0             2459\n",
       "                        1              240\n",
       "CULEX PIPIENS/RESTUANS  0             4490\n",
       "                        1              262\n",
       "CULEX RESTUANS          0             2691\n",
       "                        1               49\n",
       "CULEX SALINARIUS        0               86\n",
       "CULEX TARSALIS          0                6\n",
       "CULEX TERRITANS         0              222\n",
       "Name: WnvPresent, dtype: int64"
      ]
     },
     "execution_count": 5,
     "metadata": {},
     "output_type": "execute_result"
    }
   ],
   "source": [
    "train.groupby('Species').WnvPresent.value_counts()"
   ]
  },
  {
   "cell_type": "code",
   "execution_count": 6,
   "metadata": {},
   "outputs": [],
   "source": [
    "spray = pd.read_csv('./data/spray.csv')"
   ]
  },
  {
   "cell_type": "code",
   "execution_count": 7,
   "metadata": {},
   "outputs": [],
   "source": [
    "spray.Date = spray.Date.map(lambda x: datetime.strptime(x, '%Y-%m-%d'))"
   ]
  },
  {
   "cell_type": "code",
   "execution_count": 8,
   "metadata": {},
   "outputs": [],
   "source": [
    "spray['year'] = spray.Date.map(lambda x: x.year)"
   ]
  },
  {
   "cell_type": "code",
   "execution_count": 9,
   "metadata": {},
   "outputs": [
    {
     "data": {
      "text/html": [
       "<div>\n",
       "<style scoped>\n",
       "    .dataframe tbody tr th:only-of-type {\n",
       "        vertical-align: middle;\n",
       "    }\n",
       "\n",
       "    .dataframe tbody tr th {\n",
       "        vertical-align: top;\n",
       "    }\n",
       "\n",
       "    .dataframe thead th {\n",
       "        text-align: right;\n",
       "    }\n",
       "</style>\n",
       "<table border=\"1\" class=\"dataframe\">\n",
       "  <thead>\n",
       "    <tr style=\"text-align: right;\">\n",
       "      <th></th>\n",
       "      <th>Date</th>\n",
       "      <th>Time</th>\n",
       "      <th>Latitude</th>\n",
       "      <th>Longitude</th>\n",
       "    </tr>\n",
       "    <tr>\n",
       "      <th>year</th>\n",
       "      <th></th>\n",
       "      <th></th>\n",
       "      <th></th>\n",
       "      <th></th>\n",
       "    </tr>\n",
       "  </thead>\n",
       "  <tbody>\n",
       "    <tr>\n",
       "      <th>2011</th>\n",
       "      <td>2209</td>\n",
       "      <td>1625</td>\n",
       "      <td>2209</td>\n",
       "      <td>2209</td>\n",
       "    </tr>\n",
       "    <tr>\n",
       "      <th>2013</th>\n",
       "      <td>12626</td>\n",
       "      <td>12626</td>\n",
       "      <td>12626</td>\n",
       "      <td>12626</td>\n",
       "    </tr>\n",
       "  </tbody>\n",
       "</table>\n",
       "</div>"
      ],
      "text/plain": [
       "       Date   Time  Latitude  Longitude\n",
       "year                                   \n",
       "2011   2209   1625      2209       2209\n",
       "2013  12626  12626     12626      12626"
      ]
     },
     "execution_count": 9,
     "metadata": {},
     "output_type": "execute_result"
    }
   ],
   "source": [
    "spray.groupby('year').count()"
   ]
  },
  {
   "cell_type": "code",
   "execution_count": 10,
   "metadata": {},
   "outputs": [],
   "source": [
    "def combine_rows(df):\n",
    "    place_table = df[[\n",
    "        'Address', 'Block', 'Street', 'Trap', 'AddressNumberAndStreet', 'Latitude', 'Longitude', 'AddressAccuracy'\n",
    "    ]].drop_duplicates().set_index(['Address'])\n",
    "\n",
    "    totals = df.groupby([df.index, 'Trap', 'Address', 'Species']).NumMosquitos.sum()\n",
    "    has_nile = df.groupby([df.index, 'Trap', 'Address', 'Species']).WnvPresent.sum().map(lambda x: int(x > 0))\n",
    "    return pd.concat([totals, has_nile], axis=1).reset_index().merge(place_table.drop('Trap', axis=1), on='Address').set_index('Date')"
   ]
  },
  {
   "cell_type": "code",
   "execution_count": 11,
   "metadata": {},
   "outputs": [],
   "source": [
    "#confused how i want to handle the df\n",
    "def deal_w_stations(df2, weather):\n",
    "    station1Lat = 41.995\n",
    "    station1Lon = -87.933\n",
    "    station2Lat = 41.786\n",
    "    station2Lon = -87.752\n",
    "\n",
    "    dist1 = abs((df2.Latitude - station1Lat)*1j + (df2.Longitude - station1Lon))\n",
    "    dist2 = abs((df2.Latitude - station2Lat)*1j + (df2.Longitude - station2Lon))\n",
    "    compare = dist1 < dist2\n",
    "    weather_fields = weather.select_dtypes([float,int]).columns[1:]\n",
    "\n",
    "    for field in weather_fields:\n",
    "        df2[field] = df2[field + '_x']*compare + df2[field + '_y']*(1-compare)\n",
    "\n",
    "    redundant_cols = [name for name in df2.columns if '_' in name]\n",
    "\n",
    "    return df2.drop(redundant_cols, axis=1)"
   ]
  },
  {
   "cell_type": "code",
   "execution_count": 12,
   "metadata": {},
   "outputs": [],
   "source": [
    "weather = pd.read_csv('./data/ps_weather_processed.csv', parse_dates=[0], index_col=0)\\\n",
    "                .assign(HCDiff = lambda df: df.Heat - df.Cool)\\\n",
    "                .apply(lambda col: col.replace('-',None).ffill().astype(int) if col.name in ['Sunrise', 'Sunset'] else col)\\\n",
    "                .drop(['Heat', 'Cool','isRain'], axis=1)\n"
   ]
  },
  {
   "cell_type": "code",
   "execution_count": 13,
   "metadata": {},
   "outputs": [],
   "source": [
    "shift_dict_default = {\n",
    "        'Tmin':7,\n",
    "        'Tmax':7,\n",
    "        'Tavg':7,\n",
    "}"
   ]
  },
  {
   "cell_type": "code",
   "execution_count": 14,
   "metadata": {},
   "outputs": [],
   "source": [
    "#used in conjunction with apply\n",
    "def weatherShiftLogic(col, shift_dict=shift_dict_default):\n",
    "    if col.name in shift_dict:\n",
    "        return col.shift(shift_dict[col.name])\n",
    "    else:\n",
    "        return col.shift(21)"
   ]
  },
  {
   "cell_type": "code",
   "execution_count": 15,
   "metadata": {},
   "outputs": [],
   "source": [
    "def merge_weather(df):\n",
    "    weather = pd.read_csv('./data/ps_weather_processed.csv', parse_dates=[0], index_col=0)\\\n",
    "                .apply(lambda col: col.replace('-',None).ffill().astype(int) if col.name in ['Sunrise', 'Sunset'] else col)\\\n",
    "                .assign(HCDiff = lambda df: df.Heat - df.Cool, sundiff = lambda df: df.Sunset - df.Sunrise)\\\n",
    "                .drop(['Heat', 'Cool','isRain', 'Sunrise', 'Sunset'], axis=1)\n",
    "\n",
    "    a = weather.query('Station==1').drop('Station', axis=1).select_dtypes([float,int]).apply(weatherShiftLogic)\n",
    "    b = weather.query('Station==2').drop('Station', axis=1).select_dtypes([float,int]).apply(weatherShiftLogic)\n",
    "    df = df.join([a, b]).dropna()\n",
    "    return deal_w_stations(df, weather)"
   ]
  },
  {
   "cell_type": "code",
   "execution_count": 16,
   "metadata": {},
   "outputs": [],
   "source": [
    "def adjust_columns(df2):\n",
    "    relevant_species = ['CULEX PIPIENS', 'CULEX PIPIENS/RESTUANS', 'CULEX RESTUANS']\n",
    "    for species in relevant_species:\n",
    "        df2[species] = df2.Species.map(lambda x: int(x==species))\n",
    "    df2 = df2.assign(none=df2.Species.map(lambda x: int(x not in relevant_species )), month = df2.index.month, lat2 = df2.Latitude**2, lon2 = df2.Longitude**2, month2 = df2.index.month**2)\n",
    "    df2 = df2.assign(year = df2.index.year, year2 = df2.index.year**2)\n",
    "    df2 = df2.select_dtypes([int, float]).drop(['Block', 'AddressAccuracy'], axis=1)\n",
    "    return df2"
   ]
  },
  {
   "cell_type": "code",
   "execution_count": 17,
   "metadata": {},
   "outputs": [],
   "source": [
    "def naivestrap(x, y):\n",
    "    positive_index = y.reset_index().query('WnvPresent==1').index\n",
    "    indices = np.random.choice(positive_index, size=len(y)-y.sum())\n",
    "    return x.copy().iloc[indices,:], y.copy().iloc[indices]"
   ]
  },
  {
   "cell_type": "code",
   "execution_count": 18,
   "metadata": {},
   "outputs": [],
   "source": [
    "df2 = combine_rows(train)"
   ]
  },
  {
   "cell_type": "code",
   "execution_count": 19,
   "metadata": {},
   "outputs": [],
   "source": [
    "df2 = merge_weather(df2)"
   ]
  },
  {
   "cell_type": "code",
   "execution_count": 20,
   "metadata": {},
   "outputs": [],
   "source": [
    "df2 = adjust_columns(df2)"
   ]
  },
  {
   "cell_type": "raw",
   "metadata": {},
   "source": [
    "relevant_species = ['CULEX PIPIENS', 'CULEX PIPIENS/RESTUANS', 'CULEX RESTUANS']"
   ]
  },
  {
   "cell_type": "raw",
   "metadata": {},
   "source": [
    "for species in relevant_species:\n",
    "    df2[species] = df2.Species.map(lambda x: int(x==species))"
   ]
  },
  {
   "cell_type": "code",
   "execution_count": 21,
   "metadata": {},
   "outputs": [],
   "source": [
    "from sklearn.model_selection import train_test_split"
   ]
  },
  {
   "cell_type": "code",
   "execution_count": 22,
   "metadata": {},
   "outputs": [],
   "source": [
    "x = df2.drop(['WnvPresent','NumMosquitos'], axis=1)\n",
    "y = df2.WnvPresent\n",
    "\n",
    "xtrain, xtest, ytrain, ytest = train_test_split(x, y, test_size=0.3)"
   ]
  },
  {
   "cell_type": "code",
   "execution_count": 23,
   "metadata": {},
   "outputs": [],
   "source": [
    "xtrainint, ytrainint = naivestrap(xtrain, ytrain)\n",
    "xtrain = pd.concat([xtrain, xtrainint])\n",
    "ytrain = pd.concat([ytrain, ytrainint])"
   ]
  },
  {
   "cell_type": "raw",
   "metadata": {},
   "source": [
    "x = df2.drop(['WnvPresent','NumMosquitos'], axis=1)\n",
    "y = df2.WnvPresent\n",
    "tsplit = TimeSeriesSplit(n_splits=7)\n",
    "forests = []\n",
    "\n",
    "for train_index, test_index in tsplit.split(x):\n",
    "    xtrain, xtest, ytrain, ytest = x.iloc[train_index,:], x.iloc[test_index,:], y.iloc[train_index], y.iloc[test_index]\n",
    "    model = RandomForestClassifier(n_estimators=50, max_depth=10, class_weight=None)\n",
    "    forests.append((model.fit(xtrain, ytrain),model.score(xtest, ytest)))\n",
    "    \n",
    "model = sorted(forests, key=lambda x: x[1], reverse=True)[0][0]"
   ]
  },
  {
   "cell_type": "markdown",
   "metadata": {},
   "source": [
    "# Logistic Regression"
   ]
  },
  {
   "cell_type": "code",
   "execution_count": 24,
   "metadata": {},
   "outputs": [],
   "source": [
    "from sklearn.linear_model import LogisticRegression\n",
    "from sklearn.preprocessing import StandardScaler\n",
    "from sklearn.metrics import roc_auc_score"
   ]
  },
  {
   "cell_type": "code",
   "execution_count": 25,
   "metadata": {},
   "outputs": [],
   "source": [
    "scaler = StandardScaler()"
   ]
  },
  {
   "cell_type": "code",
   "execution_count": 26,
   "metadata": {},
   "outputs": [],
   "source": [
    "xtrain = scaler.fit_transform(xtrain)\n",
    "xtest = scaler.transform(xtest)"
   ]
  },
  {
   "cell_type": "code",
   "execution_count": 27,
   "metadata": {},
   "outputs": [
    {
     "data": {
      "text/plain": [
       "0.6401887534408179"
      ]
     },
     "execution_count": 27,
     "metadata": {},
     "output_type": "execute_result"
    }
   ],
   "source": [
    "logreg = LogisticRegression(C=0.05, penalty='l2')\n",
    "logreg.fit(xtrain, ytrain)\n",
    "logreg.score(xtest, ytest)"
   ]
  },
  {
   "cell_type": "code",
   "execution_count": 28,
   "metadata": {},
   "outputs": [
    {
     "data": {
      "text/plain": [
       "0.8024662223449527"
      ]
     },
     "execution_count": 28,
     "metadata": {},
     "output_type": "execute_result"
    }
   ],
   "source": [
    "roc_auc_score(ytrain, [proba[1] for proba in logreg.predict_proba(xtrain)])"
   ]
  },
  {
   "cell_type": "code",
   "execution_count": 29,
   "metadata": {},
   "outputs": [
    {
     "data": {
      "text/plain": [
       "0.8221222653854018"
      ]
     },
     "execution_count": 29,
     "metadata": {},
     "output_type": "execute_result"
    }
   ],
   "source": [
    "roc_auc_score(ytest, [proba[1] for proba in logreg.predict_proba(xtest)])"
   ]
  },
  {
   "cell_type": "code",
   "execution_count": 30,
   "metadata": {},
   "outputs": [
    {
     "data": {
      "text/plain": [
       "[('StnPressure', -0.8233733522055148),\n",
       " ('none', -0.6326264379421478),\n",
       " ('DewPoint', -0.4881191770302534),\n",
       " ('Tmax', -0.3673802961813744),\n",
       " ('HCDiff', -0.3309446342440505),\n",
       " ('CULEX RESTUANS', -0.2640608270193328),\n",
       " ('Longitude', -0.18500047319669863),\n",
       " ('Latitude', -0.14413522147236302),\n",
       " ('ResultSpeed', -0.1372885619212409),\n",
       " ('lat2', -0.12165697266960587),\n",
       " ('PrecipTotal', -0.1121744678417587),\n",
       " ('AvgSpeed', 0.02256421770335946),\n",
       " ('ResultDir', 0.05947128514431633),\n",
       " ('month2', 0.08070350951111813),\n",
       " ('CULEX PIPIENS/RESTUANS', 0.10918062076637437),\n",
       " ('lon2', 0.19112092066474862),\n",
       " ('Tmin', 0.19886723798672853),\n",
       " ('year', 0.22357441626156563),\n",
       " ('year2', 0.24085678661897972),\n",
       " ('CULEX PIPIENS', 0.2901446528095992),\n",
       " ('Tavg', 0.43408160268776813),\n",
       " ('WetBulb', 0.6065708371781048),\n",
       " ('SeaLevel', 0.7170580543580929),\n",
       " ('sundiff', 0.9276829581077158),\n",
       " ('month', 1.3524285212304104)]"
      ]
     },
     "execution_count": 30,
     "metadata": {},
     "output_type": "execute_result"
    }
   ],
   "source": [
    "sorted(list(zip(x.columns, logreg.coef_[0])), key=lambda x: x[1])"
   ]
  },
  {
   "cell_type": "code",
   "execution_count": 31,
   "metadata": {},
   "outputs": [],
   "source": [
    "model = logreg"
   ]
  },
  {
   "cell_type": "code",
   "execution_count": 32,
   "metadata": {},
   "outputs": [],
   "source": [
    "import seaborn as sns"
   ]
  },
  {
   "cell_type": "code",
   "execution_count": 33,
   "metadata": {},
   "outputs": [
    {
     "name": "stdout",
     "output_type": "stream",
     "text": [
      "<class 'pandas.core.frame.DataFrame'>\n",
      "DatetimeIndex: 8475 entries, 2007-05-29 to 2013-09-26\n",
      "Data columns (total 27 columns):\n",
      "NumMosquitos              8475 non-null int64\n",
      "WnvPresent                8475 non-null int64\n",
      "Latitude                  8475 non-null float64\n",
      "Longitude                 8475 non-null float64\n",
      "Tmax                      8475 non-null float64\n",
      "Tmin                      8475 non-null float64\n",
      "Tavg                      8475 non-null float64\n",
      "DewPoint                  8475 non-null float64\n",
      "WetBulb                   8475 non-null float64\n",
      "PrecipTotal               8475 non-null float64\n",
      "StnPressure               8475 non-null float64\n",
      "SeaLevel                  8475 non-null float64\n",
      "ResultSpeed               8475 non-null float64\n",
      "ResultDir                 8475 non-null float64\n",
      "AvgSpeed                  8475 non-null float64\n",
      "HCDiff                    8475 non-null float64\n",
      "sundiff                   8475 non-null float64\n",
      "CULEX PIPIENS             8475 non-null int64\n",
      "CULEX PIPIENS/RESTUANS    8475 non-null int64\n",
      "CULEX RESTUANS            8475 non-null int64\n",
      "none                      8475 non-null int64\n",
      "month                     8475 non-null int64\n",
      "lat2                      8475 non-null float64\n",
      "lon2                      8475 non-null float64\n",
      "month2                    8475 non-null int64\n",
      "year                      8475 non-null int64\n",
      "year2                     8475 non-null int64\n",
      "dtypes: float64(17), int64(10)\n",
      "memory usage: 2.1 MB\n"
     ]
    }
   ],
   "source": [
    "df2.info()"
   ]
  },
  {
   "cell_type": "code",
   "execution_count": 34,
   "metadata": {},
   "outputs": [
    {
     "data": {
      "text/plain": [
       "NumMosquitos              0.233532\n",
       "WnvPresent                1.000000\n",
       "Latitude                  0.030862\n",
       "Longitude                -0.076732\n",
       "Tmax                      0.043678\n",
       "Tmin                      0.074797\n",
       "Tavg                      0.064629\n",
       "DewPoint                  0.081697\n",
       "WetBulb                   0.104431\n",
       "PrecipTotal              -0.029796\n",
       "StnPressure              -0.000360\n",
       "SeaLevel                  0.015840\n",
       "ResultSpeed              -0.052423\n",
       "ResultDir                 0.018955\n",
       "AvgSpeed                 -0.060212\n",
       "HCDiff                   -0.119001\n",
       "sundiff                  -0.006183\n",
       "CULEX PIPIENS             0.097868\n",
       "CULEX PIPIENS/RESTUANS    0.019620\n",
       "CULEX RESTUANS           -0.094047\n",
       "none                     -0.046206\n",
       "month                     0.097948\n",
       "lat2                      0.030916\n",
       "lon2                      0.076766\n",
       "month2                    0.088755\n",
       "year                      0.043038\n",
       "year2                     0.043098\n",
       "Name: WnvPresent, dtype: float64"
      ]
     },
     "execution_count": 34,
     "metadata": {},
     "output_type": "execute_result"
    }
   ],
   "source": [
    "df2.corr().WnvPresent"
   ]
  },
  {
   "cell_type": "code",
   "execution_count": 35,
   "metadata": {},
   "outputs": [],
   "source": [
    "test = pd.read_csv('./data/test.csv', parse_dates=[1], index_col=1)\n",
    "test = merge_weather(test)\n",
    "test = adjust_columns(test)\n",
    "test = test.drop('Id', axis=1)"
   ]
  },
  {
   "cell_type": "code",
   "execution_count": 36,
   "metadata": {},
   "outputs": [],
   "source": [
    "test = scaler.transform(test)"
   ]
  },
  {
   "cell_type": "code",
   "execution_count": 37,
   "metadata": {},
   "outputs": [],
   "source": [
    "submission = pd.DataFrame([predictions[1] for predictions in model.predict_proba(test)], columns=['WnvPresent'])\n",
    "submission = submission.reset_index().rename({'index':'Id'}, axis=1)\n",
    "submission.loc[:,'Id'] = submission.Id + 1\n",
    "submission = submission.set_index('Id')\n",
    "submission.to_csv('submissionlog.csv')"
   ]
  },
  {
   "cell_type": "code",
   "execution_count": null,
   "metadata": {},
   "outputs": [],
   "source": []
  }
 ],
 "metadata": {
  "kernelspec": {
   "display_name": "Python 3",
   "language": "python",
   "name": "python3"
  },
  "language_info": {
   "codemirror_mode": {
    "name": "ipython",
    "version": 3
   },
   "file_extension": ".py",
   "mimetype": "text/x-python",
   "name": "python",
   "nbconvert_exporter": "python",
   "pygments_lexer": "ipython3",
   "version": "3.6.5"
  }
 },
 "nbformat": 4,
 "nbformat_minor": 2
}
